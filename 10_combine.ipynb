{
 "cells": [
  {
   "cell_type": "code",
   "execution_count": 61,
   "metadata": {
    "collapsed": true
   },
   "outputs": [],
   "source": [
    "import pandas as pd\n",
    "import numpy as np\n",
    "from pandas import DataFrame, Series"
   ]
  },
  {
   "cell_type": "code",
   "execution_count": 62,
   "metadata": {
    "collapsed": false
   },
   "outputs": [
    {
     "name": "stdout",
     "output_type": "stream",
     "text": [
      "<class 'pandas.core.frame.DataFrame'>\n",
      "Int64Index: 41088 entries, 0 to 41087\n",
      "Data columns (total 2 columns):\n",
      "Id       41088 non-null int64\n",
      "Sales    41088 non-null float64\n",
      "dtypes: float64(1), int64(1)\n",
      "memory usage: 963.0 KB\n"
     ]
    }
   ],
   "source": [
    "xgb = pd.read_csv('output/s04.csv')\n",
    "xgb.info()"
   ]
  },
  {
   "cell_type": "code",
   "execution_count": 63,
   "metadata": {
    "collapsed": false
   },
   "outputs": [
    {
     "data": {
      "text/html": [
       "<div>\n",
       "<table border=\"1\" class=\"dataframe\">\n",
       "  <thead>\n",
       "    <tr style=\"text-align: right;\">\n",
       "      <th></th>\n",
       "      <th>count</th>\n",
       "      <th>mean</th>\n",
       "      <th>std</th>\n",
       "      <th>min</th>\n",
       "      <th>25%</th>\n",
       "      <th>50%</th>\n",
       "      <th>75%</th>\n",
       "      <th>max</th>\n",
       "    </tr>\n",
       "  </thead>\n",
       "  <tbody>\n",
       "    <tr>\n",
       "      <th>Id</th>\n",
       "      <td>41088</td>\n",
       "      <td>20544.500000</td>\n",
       "      <td>11861.228267</td>\n",
       "      <td>1.00000</td>\n",
       "      <td>10272.75000</td>\n",
       "      <td>20544.500000</td>\n",
       "      <td>30816.250000</td>\n",
       "      <td>41088.000000</td>\n",
       "    </tr>\n",
       "    <tr>\n",
       "      <th>Sales</th>\n",
       "      <td>41088</td>\n",
       "      <td>5685.705865</td>\n",
       "      <td>3410.059897</td>\n",
       "      <td>-150.65535</td>\n",
       "      <td>4027.93457</td>\n",
       "      <td>5754.334961</td>\n",
       "      <td>7538.507324</td>\n",
       "      <td>23481.261719</td>\n",
       "    </tr>\n",
       "  </tbody>\n",
       "</table>\n",
       "</div>"
      ],
      "text/plain": [
       "       count          mean           std        min          25%  \\\n",
       "Id     41088  20544.500000  11861.228267    1.00000  10272.75000   \n",
       "Sales  41088   5685.705865   3410.059897 -150.65535   4027.93457   \n",
       "\n",
       "                50%           75%           max  \n",
       "Id     20544.500000  30816.250000  41088.000000  \n",
       "Sales   5754.334961   7538.507324  23481.261719  "
      ]
     },
     "execution_count": 63,
     "metadata": {},
     "output_type": "execute_result"
    }
   ],
   "source": [
    "xgb.describe().T"
   ]
  },
  {
   "cell_type": "code",
   "execution_count": 64,
   "metadata": {
    "collapsed": false
   },
   "outputs": [],
   "source": [
    "xgb[xgb.Sales < 0] = 0"
   ]
  },
  {
   "cell_type": "code",
   "execution_count": 65,
   "metadata": {
    "collapsed": false
   },
   "outputs": [
    {
     "name": "stdout",
     "output_type": "stream",
     "text": [
      "<class 'pandas.core.frame.DataFrame'>\n",
      "Int64Index: 41088 entries, 0 to 41087\n",
      "Data columns (total 2 columns):\n",
      "Id       41088 non-null int64\n",
      "Sales    41088 non-null float64\n",
      "dtypes: float64(1), int64(1)\n",
      "memory usage: 963.0 KB\n"
     ]
    }
   ],
   "source": [
    "sds = pd.read_csv('output/s05.csv')\n",
    "sds.info()"
   ]
  },
  {
   "cell_type": "code",
   "execution_count": 66,
   "metadata": {
    "collapsed": false
   },
   "outputs": [
    {
     "data": {
      "text/html": [
       "<div>\n",
       "<table border=\"1\" class=\"dataframe\">\n",
       "  <thead>\n",
       "    <tr style=\"text-align: right;\">\n",
       "      <th></th>\n",
       "      <th>count</th>\n",
       "      <th>mean</th>\n",
       "      <th>std</th>\n",
       "      <th>min</th>\n",
       "      <th>25%</th>\n",
       "      <th>50%</th>\n",
       "      <th>75%</th>\n",
       "      <th>max</th>\n",
       "    </tr>\n",
       "  </thead>\n",
       "  <tbody>\n",
       "    <tr>\n",
       "      <th>Id</th>\n",
       "      <td>41088</td>\n",
       "      <td>20544.500000</td>\n",
       "      <td>11861.228267</td>\n",
       "      <td>1</td>\n",
       "      <td>10272.75</td>\n",
       "      <td>20544.5</td>\n",
       "      <td>30816.25</td>\n",
       "      <td>41088.0</td>\n",
       "    </tr>\n",
       "    <tr>\n",
       "      <th>Sales</th>\n",
       "      <td>41088</td>\n",
       "      <td>5785.720393</td>\n",
       "      <td>3277.202839</td>\n",
       "      <td>0</td>\n",
       "      <td>4386.50</td>\n",
       "      <td>5917.0</td>\n",
       "      <td>7568.00</td>\n",
       "      <td>28347.5</td>\n",
       "    </tr>\n",
       "  </tbody>\n",
       "</table>\n",
       "</div>"
      ],
      "text/plain": [
       "       count          mean           std  min       25%      50%       75%  \\\n",
       "Id     41088  20544.500000  11861.228267    1  10272.75  20544.5  30816.25   \n",
       "Sales  41088   5785.720393   3277.202839    0   4386.50   5917.0   7568.00   \n",
       "\n",
       "           max  \n",
       "Id     41088.0  \n",
       "Sales  28347.5  "
      ]
     },
     "execution_count": 66,
     "metadata": {},
     "output_type": "execute_result"
    }
   ],
   "source": [
    "sds.describe().T"
   ]
  },
  {
   "cell_type": "code",
   "execution_count": 67,
   "metadata": {
    "collapsed": false
   },
   "outputs": [
    {
     "name": "stdout",
     "output_type": "stream",
     "text": [
      "<class 'pandas.core.frame.DataFrame'>\n",
      "Int64Index: 41088 entries, 0 to 41087\n",
      "Data columns (total 2 columns):\n",
      "Id       41088 non-null int64\n",
      "Sales    41088 non-null float64\n",
      "dtypes: float64(1), int64(1)\n",
      "memory usage: 963.0 KB\n"
     ]
    }
   ],
   "source": [
    "knn = pd.read_csv('output/s_knn_01.csv')\n",
    "knn.info()"
   ]
  },
  {
   "cell_type": "code",
   "execution_count": 68,
   "metadata": {
    "collapsed": false
   },
   "outputs": [
    {
     "data": {
      "text/html": [
       "<div>\n",
       "<table border=\"1\" class=\"dataframe\">\n",
       "  <thead>\n",
       "    <tr style=\"text-align: right;\">\n",
       "      <th></th>\n",
       "      <th>count</th>\n",
       "      <th>mean</th>\n",
       "      <th>std</th>\n",
       "      <th>min</th>\n",
       "      <th>25%</th>\n",
       "      <th>50%</th>\n",
       "      <th>75%</th>\n",
       "      <th>max</th>\n",
       "    </tr>\n",
       "  </thead>\n",
       "  <tbody>\n",
       "    <tr>\n",
       "      <th>Id</th>\n",
       "      <td>41088</td>\n",
       "      <td>20544.500000</td>\n",
       "      <td>11861.228267</td>\n",
       "      <td>1</td>\n",
       "      <td>10272.750000</td>\n",
       "      <td>20544.500000</td>\n",
       "      <td>30816.250000</td>\n",
       "      <td>41088.000000</td>\n",
       "    </tr>\n",
       "    <tr>\n",
       "      <th>Sales</th>\n",
       "      <td>41088</td>\n",
       "      <td>5566.836465</td>\n",
       "      <td>3293.602662</td>\n",
       "      <td>0</td>\n",
       "      <td>3981.636039</td>\n",
       "      <td>5636.837767</td>\n",
       "      <td>7404.920637</td>\n",
       "      <td>26568.019101</td>\n",
       "    </tr>\n",
       "  </tbody>\n",
       "</table>\n",
       "</div>"
      ],
      "text/plain": [
       "       count          mean           std  min           25%           50%  \\\n",
       "Id     41088  20544.500000  11861.228267    1  10272.750000  20544.500000   \n",
       "Sales  41088   5566.836465   3293.602662    0   3981.636039   5636.837767   \n",
       "\n",
       "                75%           max  \n",
       "Id     30816.250000  41088.000000  \n",
       "Sales   7404.920637  26568.019101  "
      ]
     },
     "execution_count": 68,
     "metadata": {},
     "output_type": "execute_result"
    }
   ],
   "source": [
    "knn.describe().T"
   ]
  },
  {
   "cell_type": "code",
   "execution_count": 69,
   "metadata": {
    "collapsed": true
   },
   "outputs": [],
   "source": [
    "xgb2 = pd.read_csv('output/s_xgb_02.csv')\n",
    "xgb[xgb.Sales < 0] = 0"
   ]
  },
  {
   "cell_type": "code",
   "execution_count": 70,
   "metadata": {
    "collapsed": true
   },
   "outputs": [],
   "source": [
    "svr = pd.read_csv('output/s_svr_01.csv')"
   ]
  },
  {
   "cell_type": "code",
   "execution_count": 71,
   "metadata": {
    "collapsed": true
   },
   "outputs": [],
   "source": [
    "exgb = pd.read_csv('output/s_exgb_01.csv')"
   ]
  },
  {
   "cell_type": "code",
   "execution_count": 72,
   "metadata": {
    "collapsed": false
   },
   "outputs": [
    {
     "name": "stdout",
     "output_type": "stream",
     "text": [
      "<class 'pandas.core.frame.DataFrame'>\n",
      "Int64Index: 41088 entries, 0 to 41087\n",
      "Data columns (total 2 columns):\n",
      "Id       41088 non-null int64\n",
      "Sales    41088 non-null float64\n",
      "dtypes: float64(1), int64(1)\n",
      "memory usage: 963.0 KB\n"
     ]
    }
   ],
   "source": [
    "s = DataFrame({'Id': knn.Id, 'Sales': ((5 * xgb.Sales + sds.Sales + knn.Sales + xgb2.Sales + svr.Sales + exgb.Sales)/10)})\n",
    "s.info()"
   ]
  },
  {
   "cell_type": "code",
   "execution_count": 73,
   "metadata": {
    "collapsed": false
   },
   "outputs": [
    {
     "data": {
      "text/html": [
       "<div>\n",
       "<table border=\"1\" class=\"dataframe\">\n",
       "  <thead>\n",
       "    <tr style=\"text-align: right;\">\n",
       "      <th></th>\n",
       "      <th>count</th>\n",
       "      <th>mean</th>\n",
       "      <th>std</th>\n",
       "      <th>min</th>\n",
       "      <th>25%</th>\n",
       "      <th>50%</th>\n",
       "      <th>75%</th>\n",
       "      <th>max</th>\n",
       "    </tr>\n",
       "  </thead>\n",
       "  <tbody>\n",
       "    <tr>\n",
       "      <th>Id</th>\n",
       "      <td>41088</td>\n",
       "      <td>20544.500000</td>\n",
       "      <td>11861.228267</td>\n",
       "      <td>1.000000</td>\n",
       "      <td>10272.750000</td>\n",
       "      <td>20544.500000</td>\n",
       "      <td>30816.250000</td>\n",
       "      <td>41088.000000</td>\n",
       "    </tr>\n",
       "    <tr>\n",
       "      <th>Sales</th>\n",
       "      <td>41088</td>\n",
       "      <td>5696.734572</td>\n",
       "      <td>3213.160198</td>\n",
       "      <td>-63.467267</td>\n",
       "      <td>4219.618524</td>\n",
       "      <td>5800.436043</td>\n",
       "      <td>7450.120443</td>\n",
       "      <td>23411.753859</td>\n",
       "    </tr>\n",
       "  </tbody>\n",
       "</table>\n",
       "</div>"
      ],
      "text/plain": [
       "       count          mean           std        min           25%  \\\n",
       "Id     41088  20544.500000  11861.228267   1.000000  10272.750000   \n",
       "Sales  41088   5696.734572   3213.160198 -63.467267   4219.618524   \n",
       "\n",
       "                50%           75%           max  \n",
       "Id     20544.500000  30816.250000  41088.000000  \n",
       "Sales   5800.436043   7450.120443  23411.753859  "
      ]
     },
     "execution_count": 73,
     "metadata": {},
     "output_type": "execute_result"
    }
   ],
   "source": [
    "s.describe().T"
   ]
  },
  {
   "cell_type": "code",
   "execution_count": 74,
   "metadata": {
    "collapsed": true
   },
   "outputs": [],
   "source": [
    "s.to_csv('output/s_comb_04.csv', index=False)"
   ]
  }
 ],
 "metadata": {
  "kernelspec": {
   "display_name": "Python 2",
   "language": "python",
   "name": "python2"
  },
  "language_info": {
   "codemirror_mode": {
    "name": "ipython",
    "version": 2
   },
   "file_extension": ".py",
   "mimetype": "text/x-python",
   "name": "python",
   "nbconvert_exporter": "python",
   "pygments_lexer": "ipython2",
   "version": "2.7.10"
  }
 },
 "nbformat": 4,
 "nbformat_minor": 0
}
