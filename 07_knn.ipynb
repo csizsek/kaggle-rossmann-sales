{
 "cells": [
  {
   "cell_type": "code",
   "execution_count": 1,
   "metadata": {
    "collapsed": false
   },
   "outputs": [
    {
     "name": "stdout",
     "output_type": "stream",
     "text": [
      "Populating the interactive namespace from numpy and matplotlib\n"
     ]
    }
   ],
   "source": [
    "import pandas as pd\n",
    "import numpy as np\n",
    "from pandas import DataFrame, Series\n",
    "import matplotlib.pyplot as plt\n",
    "from pylab import rcParams\n",
    "%pylab inline\n",
    "rcParams['figure.figsize'] = 12, 6\n",
    "from datetime import datetime\n",
    "import re\n",
    "import math\n",
    "from sklearn.metrics import make_scorer\n",
    "from sklearn import preprocessing\n",
    "import xgboost as xgb\n",
    "from sklearn.neighbors import KNeighborsRegressor\n",
    "from sklearn.svm import SVR\n",
    "from sklearn.grid_search import GridSearchCV\n",
    "from sklearn.cross_validation import cross_val_predict"
   ]
  },
  {
   "cell_type": "code",
   "execution_count": 2,
   "metadata": {
    "collapsed": true
   },
   "outputs": [],
   "source": [
    "d = pd.read_csv('tmp/engineered_features_2.csv')\n",
    "del d['Date']\n",
    "del d['DateYear']\n",
    "del d['DateMonth']\n",
    "del d['DateDay']\n",
    "del d['Store']\n",
    "del d['Id']"
   ]
  },
  {
   "cell_type": "code",
   "execution_count": 3,
   "metadata": {
    "collapsed": false
   },
   "outputs": [],
   "source": [
    "s = d.Sales\n",
    "for c in d.columns:\n",
    "    if (c.startswith('PromoInterval') or\n",
    "    c.startswith('Competit') or\n",
    "    (c.startswith('StoreDay') and c != 'StoreDaySales_50') or\n",
    "    c.startswith('StoreSal') or\n",
    "    c.startswith('Promo2Sin')):\n",
    "        del d[c]"
   ]
  },
  {
   "cell_type": "code",
   "execution_count": 4,
   "metadata": {
    "collapsed": false
   },
   "outputs": [],
   "source": [
    "d = d.fillna(0)\n",
    "e = DataFrame(preprocessing.scale(d), columns=d.columns)\n",
    "d = e\n",
    "d.Sales = s"
   ]
  },
  {
   "cell_type": "code",
   "execution_count": 5,
   "metadata": {
    "collapsed": false
   },
   "outputs": [
    {
     "name": "stdout",
     "output_type": "stream",
     "text": [
      "1.11803398875\n",
      "1.0\n"
     ]
    }
   ],
   "source": [
    "def rmspe_func(y_true, y_pred, **kwargs):\n",
    "    if len(y_pred) != len(y_true):\n",
    "        raise Exception(\"different length series passed to scorer function\")\n",
    "    d = DataFrame({'yt': y_true, 'yp': y_pred})\n",
    "    d = d[d.yt != 0]\n",
    "    return np.sqrt((1.0/len(d.yt))*(np.square(((d.yt - d.yp)/d.yt)).sum()))\n",
    "print rmspe_func(Series([2.0, 2.0, 0.0, 0.0]), Series([1.0, 5.0, 100.0, 0.0]))\n",
    "print rmspe_func(Series([2.0, 2.0, 0.0, 0.0]), Series([0.0, 0.0, 0.0, 0.0]))\n",
    "rmspe = make_scorer(rmspe_func, greater_is_better=False)"
   ]
  },
  {
   "cell_type": "code",
   "execution_count": 6,
   "metadata": {
    "collapsed": true
   },
   "outputs": [],
   "source": [
    "d = d[pd.notnull(d.Sales)]"
   ]
  },
  {
   "cell_type": "code",
   "execution_count": 7,
   "metadata": {
    "collapsed": true
   },
   "outputs": [],
   "source": [
    "lim_tr = int(0.4 * len(d))\n",
    "tr = d[:lim_tr]\n",
    "trl = tr.Sales\n",
    "del tr['Sales']\n",
    "lim_ho = int(0.45 * len(d))\n",
    "ho = d[lim_tr:lim_ho]\n",
    "hol = ho.Sales\n",
    "del ho['Sales']\n",
    "del d"
   ]
  },
  {
   "cell_type": "code",
   "execution_count": 8,
   "metadata": {
    "collapsed": false
   },
   "outputs": [
    {
     "name": "stdout",
     "output_type": "stream",
     "text": [
      "1.0\n"
     ]
    }
   ],
   "source": [
    "def eval_pred(p):\n",
    "    return rmspe_func(hol, p)\n",
    "print eval_pred(zeros_like(hol))"
   ]
  },
  {
   "cell_type": "code",
   "execution_count": 9,
   "metadata": {
    "collapsed": true
   },
   "outputs": [],
   "source": [
    "def eval_model(m):\n",
    "    m.fit(tr, trl)\n",
    "    p = m.predict(ho)\n",
    "    return eval_pred(p)"
   ]
  },
  {
   "cell_type": "code",
   "execution_count": 11,
   "metadata": {
    "collapsed": false
   },
   "outputs": [
    {
     "data": {
      "text/plain": [
       "0.15540681335762116"
      ]
     },
     "execution_count": 11,
     "metadata": {},
     "output_type": "execute_result"
    }
   ],
   "source": [
    "# eval_model(KNeighborsRegressor(\n",
    "#     n_neighbors=35,\n",
    "#     weights='distance'\n",
    "#     ))\n",
    "# # 0.1554"
   ]
  },
  {
   "cell_type": "code",
   "execution_count": 13,
   "metadata": {
    "collapsed": false
   },
   "outputs": [
    {
     "data": {
      "text/plain": [
       "0.15572942078808572"
      ]
     },
     "execution_count": 13,
     "metadata": {},
     "output_type": "execute_result"
    }
   ],
   "source": [
    "# eval_model(KNeighborsRegressor(\n",
    "#     n_neighbors=15,\n",
    "#     weights='distance'\n",
    "#     ))\n",
    "# # 0.1557"
   ]
  },
  {
   "cell_type": "code",
   "execution_count": null,
   "metadata": {
    "collapsed": true
   },
   "outputs": [],
   "source": []
  },
  {
   "cell_type": "code",
   "execution_count": null,
   "metadata": {
    "collapsed": true
   },
   "outputs": [],
   "source": []
  },
  {
   "cell_type": "code",
   "execution_count": null,
   "metadata": {
    "collapsed": true
   },
   "outputs": [],
   "source": []
  },
  {
   "cell_type": "code",
   "execution_count": null,
   "metadata": {
    "collapsed": true
   },
   "outputs": [],
   "source": []
  },
  {
   "cell_type": "code",
   "execution_count": 16,
   "metadata": {
    "collapsed": true
   },
   "outputs": [],
   "source": [
    "d = pd.read_csv('tmp/engineered_features_2.csv')\n",
    "del d['Date']\n",
    "del d['DateYear']\n",
    "del d['DateMonth']\n",
    "del d['DateDay']\n",
    "del d['Store']\n",
    "del d['Id']"
   ]
  },
  {
   "cell_type": "code",
   "execution_count": 17,
   "metadata": {
    "collapsed": true
   },
   "outputs": [],
   "source": [
    "s = d.Sales"
   ]
  },
  {
   "cell_type": "code",
   "execution_count": 18,
   "metadata": {
    "collapsed": true
   },
   "outputs": [],
   "source": [
    "for c in d.columns:\n",
    "    if (c.startswith('PromoInterval') or\n",
    "    c.startswith('Competit') or\n",
    "    (c.startswith('StoreDay') and c != 'StoreDaySales_50') or\n",
    "    c.startswith('StoreSal') or\n",
    "    c.startswith('Promo2Sin')):\n",
    "        del d[c]"
   ]
  },
  {
   "cell_type": "code",
   "execution_count": 19,
   "metadata": {
    "collapsed": true
   },
   "outputs": [],
   "source": [
    "d = d.fillna(0)\n",
    "e = DataFrame(preprocessing.scale(d), columns=d.columns)\n",
    "d = e\n",
    "d.Sales = s"
   ]
  },
  {
   "cell_type": "code",
   "execution_count": 20,
   "metadata": {
    "collapsed": true
   },
   "outputs": [],
   "source": [
    "tr = d[pd.notnull(d.Sales)]\n",
    "trl = tr.Sales\n",
    "del tr['Sales']\n",
    "te = d[pd.isnull(d.Sales)]\n",
    "del te['Sales']"
   ]
  },
  {
   "cell_type": "code",
   "execution_count": 21,
   "metadata": {
    "collapsed": true
   },
   "outputs": [],
   "source": [
    "m = KNeighborsRegressor(\n",
    "    n_neighbors=35,\n",
    "    weights='distance'\n",
    "    )"
   ]
  },
  {
   "cell_type": "code",
   "execution_count": 22,
   "metadata": {
    "collapsed": false
   },
   "outputs": [
    {
     "data": {
      "text/plain": [
       "KNeighborsRegressor(algorithm='auto', leaf_size=30, metric='minkowski',\n",
       "          metric_params=None, n_neighbors=35, p=2, weights='distance')"
      ]
     },
     "execution_count": 22,
     "metadata": {},
     "output_type": "execute_result"
    }
   ],
   "source": [
    "m.fit(tr, trl)"
   ]
  },
  {
   "cell_type": "code",
   "execution_count": 23,
   "metadata": {
    "collapsed": true
   },
   "outputs": [],
   "source": [
    "knn_te = m.predict(te)"
   ]
  },
  {
   "cell_type": "code",
   "execution_count": 24,
   "metadata": {
    "collapsed": false
   },
   "outputs": [],
   "source": [
    "sub = DataFrame({'Id': np.arange(1, len(knn_te)+1), 'Sales': knn_te})\n",
    "sub.to_csv('output/s_knn_01.csv', index=False)"
   ]
  }
 ],
 "metadata": {
  "kernelspec": {
   "display_name": "Python 2",
   "language": "python",
   "name": "python2"
  },
  "language_info": {
   "codemirror_mode": {
    "name": "ipython",
    "version": 2
   },
   "file_extension": ".py",
   "mimetype": "text/x-python",
   "name": "python",
   "nbconvert_exporter": "python",
   "pygments_lexer": "ipython2",
   "version": "2.7.10"
  }
 },
 "nbformat": 4,
 "nbformat_minor": 0
}
