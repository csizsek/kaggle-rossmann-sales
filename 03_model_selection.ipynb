{
 "cells": [
  {
   "cell_type": "code",
   "execution_count": 1,
   "metadata": {
    "collapsed": false
   },
   "outputs": [
    {
     "name": "stdout",
     "output_type": "stream",
     "text": [
      "Populating the interactive namespace from numpy and matplotlib\n"
     ]
    }
   ],
   "source": [
    "import pandas as pd\n",
    "import numpy as np\n",
    "from pandas import DataFrame, Series\n",
    "import matplotlib.pyplot as plt\n",
    "from pylab import rcParams\n",
    "%pylab inline\n",
    "rcParams['figure.figsize'] = 12, 6\n",
    "from datetime import datetime\n",
    "import re\n",
    "import math\n",
    "from sklearn.metrics import make_scorer\n",
    "from sklearn import preprocessing\n",
    "import xgboost as xgb\n",
    "from sklearn.neighbors import KNeighborsRegressor\n",
    "from sklearn.svm import SVR\n",
    "from sklearn.grid_search import GridSearchCV"
   ]
  },
  {
   "cell_type": "code",
   "execution_count": 2,
   "metadata": {
    "collapsed": false
   },
   "outputs": [],
   "source": [
    "# d = pd.read_csv('tmp/engineered_features.csv')"
   ]
  },
  {
   "cell_type": "code",
   "execution_count": 3,
   "metadata": {
    "collapsed": false
   },
   "outputs": [],
   "source": [
    "# del d['Date']\n",
    "# del d['PromoInterval']\n",
    "# del d['Customers']\n",
    "# d = pd.get_dummies(d, ['StateHoliday', 'StoreType', 'Assortment'])\n",
    "# d = d.fillna(-1)"
   ]
  },
  {
   "cell_type": "code",
   "execution_count": 4,
   "metadata": {
    "collapsed": false
   },
   "outputs": [],
   "source": [
    "# sales = d.Sales\n",
    "# del d['Sales']\n",
    "# d = DataFrame(preprocessing.scale(d), columns=d.columns)\n",
    "# d['Sales'] = sales\n",
    "# d.describe().T[:5]"
   ]
  },
  {
   "cell_type": "code",
   "execution_count": 5,
   "metadata": {
    "collapsed": true
   },
   "outputs": [],
   "source": [
    "# d.to_csv('tmp/scaled_features.csv')\n",
    "# del d"
   ]
  },
  {
   "cell_type": "code",
   "execution_count": 6,
   "metadata": {
    "collapsed": false
   },
   "outputs": [
    {
     "name": "stdout",
     "output_type": "stream",
     "text": [
      "1.11803398875\n",
      "1.0\n"
     ]
    }
   ],
   "source": [
    "def rmspe_func(y_true, y_pred, **kwargs):\n",
    "    if len(y_pred) != len(y_true):\n",
    "        raise Exception(\"different length series passed to scorer function\")\n",
    "    d = DataFrame({'yt': y_true, 'yp': y_pred})\n",
    "    d = d[d.yt != 0]\n",
    "    return np.sqrt((1.0/len(d.yt))*(np.square(((d.yt - d.yp)/d.yt)).sum()))\n",
    "print rmspe_func(Series([2.0, 2.0, 0.0, 0.0]), Series([1.0, 5.0, 100.0, 0.0]))\n",
    "print rmspe_func(Series([2.0, 2.0, 0.0, 0.0]), Series([0.0, 0.0, 0.0, 0.0]))\n",
    "rmspe = make_scorer(rmspe_func, greater_is_better=False)"
   ]
  },
  {
   "cell_type": "code",
   "execution_count": 7,
   "metadata": {
    "collapsed": true
   },
   "outputs": [],
   "source": [
    "d = pd.read_csv('tmp/scaled_features.csv')\n",
    "d = d[d.Sales > 0]\n",
    "d = d.iloc[np.random.permutation(len(d))]\n",
    "lim_tr = int(0.4 * len(d))\n",
    "tr = d[:lim_tr]\n",
    "trl = tr.Sales\n",
    "del tr['Sales']\n",
    "lim_ho = int(0.5 * len(d))\n",
    "ho = d[lim_tr:lim_ho]\n",
    "hol = ho.Sales\n",
    "del ho['Sales']\n",
    "del d"
   ]
  },
  {
   "cell_type": "code",
   "execution_count": 8,
   "metadata": {
    "collapsed": false
   },
   "outputs": [
    {
     "name": "stdout",
     "output_type": "stream",
     "text": [
      "1.0\n"
     ]
    }
   ],
   "source": [
    "def eval_pred(p):\n",
    "    return rmspe_func(hol, p)\n",
    "print eval_pred(zeros_like(hol))"
   ]
  },
  {
   "cell_type": "code",
   "execution_count": 9,
   "metadata": {
    "collapsed": true
   },
   "outputs": [],
   "source": [
    "def eval_model(m):\n",
    "    m.fit(tr, trl)\n",
    "    p = m.predict(ho)\n",
    "    return eval_pred(p)"
   ]
  },
  {
   "cell_type": "code",
   "execution_count": 10,
   "metadata": {
    "collapsed": false
   },
   "outputs": [],
   "source": [
    "# param_grid = {\n",
    "#     'n_estimators': [200],\n",
    "#     'nthread': [6],\n",
    "#     'learning_rate': [0.15],\n",
    "#     'max_depth': [15, 25],\n",
    "#     'objective':['reg:linear'],\n",
    "#     'min_child_weight': [5, 10]\n",
    "# }\n",
    "# m = GridSearchCV(xgb.XGBRegressor(), param_grid, cv=2, scoring=rmspe)\n",
    "# print eval_model(m)\n",
    "# print m.best_params_\n",
    "# #best result: ~0.15"
   ]
  },
  {
   "cell_type": "code",
   "execution_count": null,
   "metadata": {
    "collapsed": false
   },
   "outputs": [
    {
     "name": "stdout",
     "output_type": "stream",
     "text": [
      "0.502272698292\n",
      "{'n_neighbors': 50, 'weights': 'uniform', 'p': 1}\n"
     ]
    }
   ],
   "source": [
    "param_grid = {\n",
    "    'n_neighbors': [1, 7, 50, 350],\n",
    "    'weights': ['uniform', 'distance'],\n",
    "    'p': [1, 2, 3]\n",
    "}\n",
    "m = GridSearchCV(KNeighborsRegressor(), param_grid, cv=2, scoring=rmspe)\n",
    "print eval_model(m)\n",
    "print m.best_params_"
   ]
  },
  {
   "cell_type": "code",
   "execution_count": null,
   "metadata": {
    "collapsed": true
   },
   "outputs": [],
   "source": [
    "# param_grid = {\n",
    "#     'C': [0.5, 1.0, 2.0],\n",
    "#     'epsilon': [0.01, 0.1, 0.5],\n",
    "#     'kernel': ['rbf', 'linear', 'poly']\n",
    "# }\n",
    "param_grid = {\n",
    "    'C': [1.0],\n",
    "    'epsilon': [0.1],\n",
    "    'kernel': ['linear']\n",
    "}\n",
    "m = GridSearchCV(SVR(), param_grid, cv=2, scoring=rmspe)\n",
    "print eval_model(m)\n",
    "print m.best_params_"
   ]
  }
 ],
 "metadata": {
  "kernelspec": {
   "display_name": "Python 2",
   "language": "python",
   "name": "python2"
  },
  "language_info": {
   "codemirror_mode": {
    "name": "ipython",
    "version": 2
   },
   "file_extension": ".py",
   "mimetype": "text/x-python",
   "name": "python",
   "nbconvert_exporter": "python",
   "pygments_lexer": "ipython2",
   "version": "2.7.10"
  }
 },
 "nbformat": 4,
 "nbformat_minor": 0
}
