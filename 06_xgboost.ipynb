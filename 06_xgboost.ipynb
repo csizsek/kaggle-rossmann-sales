{
 "cells": [
  {
   "cell_type": "code",
   "execution_count": 19,
   "metadata": {
    "collapsed": false
   },
   "outputs": [
    {
     "name": "stdout",
     "output_type": "stream",
     "text": [
      "Populating the interactive namespace from numpy and matplotlib\n"
     ]
    },
    {
     "name": "stderr",
     "output_type": "stream",
     "text": [
      "WARNING: pylab import has clobbered these variables: ['datetime']\n",
      "`%matplotlib` prevents importing * from pylab and numpy\n"
     ]
    }
   ],
   "source": [
    "import pandas as pd\n",
    "import numpy as np\n",
    "from pandas import DataFrame, Series\n",
    "import matplotlib.pyplot as plt\n",
    "from pylab import rcParams\n",
    "%pylab inline\n",
    "rcParams['figure.figsize'] = 12, 6\n",
    "from datetime import datetime\n",
    "import re\n",
    "import math\n",
    "from sklearn.metrics import make_scorer\n",
    "from sklearn import preprocessing\n",
    "import xgboost as xgb\n",
    "from sklearn.neighbors import KNeighborsRegressor\n",
    "from sklearn.svm import SVR\n",
    "from sklearn.grid_search import GridSearchCV\n",
    "from sklearn.cross_validation import cross_val_predict"
   ]
  },
  {
   "cell_type": "code",
   "execution_count": 20,
   "metadata": {
    "collapsed": false
   },
   "outputs": [
    {
     "data": {
      "text/plain": [
       "1058297"
      ]
     },
     "execution_count": 20,
     "metadata": {},
     "output_type": "execute_result"
    }
   ],
   "source": [
    "d = pd.read_csv('tmp/engineered_features_2.csv')\n",
    "del d['Date']\n",
    "del d['DateYear']\n",
    "del d['DateMonth']\n",
    "del d['DateDay']\n",
    "len(d)"
   ]
  },
  {
   "cell_type": "code",
   "execution_count": 21,
   "metadata": {
    "collapsed": false
   },
   "outputs": [
    {
     "name": "stdout",
     "output_type": "stream",
     "text": [
      "1.11803398875\n",
      "1.0\n"
     ]
    }
   ],
   "source": [
    "def rmspe_func(y_true, y_pred, **kwargs):\n",
    "    if len(y_pred) != len(y_true):\n",
    "        raise Exception(\"different length series passed to scorer function\")\n",
    "    d = DataFrame({'yt': y_true, 'yp': y_pred})\n",
    "    d = d[d.yt != 0]\n",
    "    return np.sqrt((1.0/len(d.yt))*(np.square(((d.yt - d.yp)/d.yt)).sum()))\n",
    "print rmspe_func(Series([2.0, 2.0, 0.0, 0.0]), Series([1.0, 5.0, 100.0, 0.0]))\n",
    "print rmspe_func(Series([2.0, 2.0, 0.0, 0.0]), Series([0.0, 0.0, 0.0, 0.0]))\n",
    "rmspe = make_scorer(rmspe_func, greater_is_better=False)"
   ]
  },
  {
   "cell_type": "code",
   "execution_count": 22,
   "metadata": {
    "collapsed": false
   },
   "outputs": [
    {
     "data": {
      "text/plain": [
       "1017209"
      ]
     },
     "execution_count": 22,
     "metadata": {},
     "output_type": "execute_result"
    }
   ],
   "source": [
    "d = d[pd.notnull(d.Sales)]\n",
    "len(d)"
   ]
  },
  {
   "cell_type": "code",
   "execution_count": 23,
   "metadata": {
    "collapsed": true
   },
   "outputs": [],
   "source": [
    "#d = d.iloc[np.random.permutation(len(d))]\n",
    "lim_tr = int(0.4 * len(d))\n",
    "tr = d[:lim_tr]\n",
    "trl = tr.Sales\n",
    "trl = trl - tr.StoreDaySales_50\n",
    "del tr['Sales']\n",
    "lim_ho = int(0.45 * len(d))\n",
    "ho = d[lim_tr:lim_ho]\n",
    "hol = ho.Sales\n",
    "hol = hol - ho.StoreDaySales_50\n",
    "del ho['Sales']\n",
    "del d"
   ]
  },
  {
   "cell_type": "code",
   "execution_count": 24,
   "metadata": {
    "collapsed": false
   },
   "outputs": [
    {
     "name": "stdout",
     "output_type": "stream",
     "text": [
      "0.228500905309\n"
     ]
    }
   ],
   "source": [
    "def eval_pred(p):\n",
    "    return rmspe_func(ho.StoreDaySales_50 + hol, ho.StoreDaySales_50 + p)\n",
    "print eval_pred(zeros_like(hol))"
   ]
  },
  {
   "cell_type": "code",
   "execution_count": 25,
   "metadata": {
    "collapsed": true
   },
   "outputs": [],
   "source": [
    "def eval_model(m):\n",
    "    m.fit(tr, trl)\n",
    "    p = m.predict(ho)\n",
    "    return eval_pred(p)"
   ]
  },
  {
   "cell_type": "code",
   "execution_count": 38,
   "metadata": {
    "collapsed": false
   },
   "outputs": [
    {
     "data": {
      "text/plain": [
       "0.15459191219904012"
      ]
     },
     "execution_count": 38,
     "metadata": {},
     "output_type": "execute_result"
    }
   ],
   "source": [
    "eval_model(xgb.XGBRegressor(\n",
    "        nthread=6,\n",
    "        n_estimators=100,\n",
    "        max_depth=10,\n",
    "        learning_rate=0.01,\n",
    "        min_child_weight=1,\n",
    "        objective='reg:linear'))"
   ]
  },
  {
   "cell_type": "code",
   "execution_count": 40,
   "metadata": {
    "collapsed": false
   },
   "outputs": [
    {
     "data": {
      "text/plain": [
       "0.13885236471279822"
      ]
     },
     "execution_count": 40,
     "metadata": {},
     "output_type": "execute_result"
    }
   ],
   "source": [
    "eval_model(xgb.XGBRegressor(\n",
    "        nthread=6,\n",
    "        n_estimators=100,\n",
    "        max_depth=10,\n",
    "        learning_rate=0.08,\n",
    "        min_child_weight=1,\n",
    "        objective='reg:linear'))"
   ]
  },
  {
   "cell_type": "code",
   "execution_count": 41,
   "metadata": {
    "collapsed": false
   },
   "outputs": [
    {
     "data": {
      "text/plain": [
       "0.13799738773885506"
      ]
     },
     "execution_count": 41,
     "metadata": {},
     "output_type": "execute_result"
    }
   ],
   "source": [
    "eval_model(xgb.XGBRegressor(\n",
    "        nthread=6,\n",
    "        n_estimators=100,\n",
    "        max_depth=10,\n",
    "        learning_rate=0.05,\n",
    "        min_child_weight=1,\n",
    "        objective='reg:linear'))"
   ]
  },
  {
   "cell_type": "code",
   "execution_count": 42,
   "metadata": {
    "collapsed": false
   },
   "outputs": [
    {
     "data": {
      "text/plain": [
       "0.14994527877419181"
      ]
     },
     "execution_count": 42,
     "metadata": {},
     "output_type": "execute_result"
    }
   ],
   "source": [
    "eval_model(xgb.XGBRegressor(\n",
    "        nthread=6,\n",
    "        n_estimators=600,\n",
    "        max_depth=12,\n",
    "        learning_rate=0.05,\n",
    "        min_child_weight=5,\n",
    "        objective='reg:linear'))"
   ]
  },
  {
   "cell_type": "code",
   "execution_count": 43,
   "metadata": {
    "collapsed": false
   },
   "outputs": [
    {
     "data": {
      "text/plain": [
       "0.14639459369150173"
      ]
     },
     "execution_count": 43,
     "metadata": {},
     "output_type": "execute_result"
    }
   ],
   "source": [
    "eval_model(xgb.XGBRegressor(\n",
    "        nthread=6,\n",
    "        n_estimators=400,\n",
    "        max_depth=12,\n",
    "        learning_rate=0.05,\n",
    "        min_child_weight=10,\n",
    "        objective='reg:linear'))"
   ]
  },
  {
   "cell_type": "code",
   "execution_count": null,
   "metadata": {
    "collapsed": true
   },
   "outputs": [],
   "source": []
  },
  {
   "cell_type": "code",
   "execution_count": null,
   "metadata": {
    "collapsed": true
   },
   "outputs": [],
   "source": []
  },
  {
   "cell_type": "code",
   "execution_count": null,
   "metadata": {
    "collapsed": true
   },
   "outputs": [],
   "source": []
  },
  {
   "cell_type": "code",
   "execution_count": null,
   "metadata": {
    "collapsed": true
   },
   "outputs": [],
   "source": []
  },
  {
   "cell_type": "code",
   "execution_count": null,
   "metadata": {
    "collapsed": true
   },
   "outputs": [],
   "source": []
  },
  {
   "cell_type": "code",
   "execution_count": null,
   "metadata": {
    "collapsed": true
   },
   "outputs": [],
   "source": []
  },
  {
   "cell_type": "code",
   "execution_count": null,
   "metadata": {
    "collapsed": true
   },
   "outputs": [],
   "source": []
  },
  {
   "cell_type": "code",
   "execution_count": null,
   "metadata": {
    "collapsed": true
   },
   "outputs": [],
   "source": []
  },
  {
   "cell_type": "code",
   "execution_count": null,
   "metadata": {
    "collapsed": true
   },
   "outputs": [],
   "source": []
  },
  {
   "cell_type": "code",
   "execution_count": 44,
   "metadata": {
    "collapsed": false
   },
   "outputs": [],
   "source": [
    "d = pd.read_csv('tmp/engineered_features_2.csv')\n",
    "del d['Date']\n",
    "del d['DateYear']\n",
    "del d['Id']\n",
    "tr = d[pd.notnull(d.Sales)]\n",
    "trl = tr.Sales\n",
    "trl = trl - tr.StoreDaySales_50\n",
    "del tr['Sales']\n",
    "te = d[pd.isnull(d.Sales)]\n",
    "del te['Sales']"
   ]
  },
  {
   "cell_type": "code",
   "execution_count": 45,
   "metadata": {
    "collapsed": false
   },
   "outputs": [],
   "source": [
    "m = xgb.XGBRegressor(\n",
    "        nthread=6,\n",
    "        n_estimators=100,\n",
    "        max_depth=11,\n",
    "        learning_rate=0.05,\n",
    "        min_child_weight=1,\n",
    "        objective='reg:linear')\n",
    "m.fit(tr, trl)\n",
    "exgb_te = m.predict(te)\n",
    "exgb_te = exgb_te + te.StoreDaySales_50\n",
    "sub = DataFrame({'Id': np.arange(1, len(xgb_te)+1), 'Sales': xgb_te})\n",
    "sub.to_csv('output/s_exgb_01.csv', index=False)"
   ]
  }
 ],
 "metadata": {
  "kernelspec": {
   "display_name": "Python 2",
   "language": "python",
   "name": "python2"
  },
  "language_info": {
   "codemirror_mode": {
    "name": "ipython",
    "version": 2
   },
   "file_extension": ".py",
   "mimetype": "text/x-python",
   "name": "python",
   "nbconvert_exporter": "python",
   "pygments_lexer": "ipython2",
   "version": "2.7.10"
  }
 },
 "nbformat": 4,
 "nbformat_minor": 0
}
