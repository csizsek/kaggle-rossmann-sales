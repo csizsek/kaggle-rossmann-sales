{
 "cells": [
  {
   "cell_type": "code",
   "execution_count": 15,
   "metadata": {
    "collapsed": false
   },
   "outputs": [
    {
     "name": "stdout",
     "output_type": "stream",
     "text": [
      "Populating the interactive namespace from numpy and matplotlib\n"
     ]
    },
    {
     "name": "stderr",
     "output_type": "stream",
     "text": [
      "WARNING: pylab import has clobbered these variables: ['f', 'datetime', 'e']\n",
      "`%matplotlib` prevents importing * from pylab and numpy\n"
     ]
    }
   ],
   "source": [
    "import pandas as pd\n",
    "import numpy as np\n",
    "from pandas import DataFrame, Series\n",
    "import matplotlib.pyplot as plt\n",
    "from pylab import rcParams\n",
    "%pylab inline\n",
    "rcParams['figure.figsize'] = 12, 6\n",
    "from datetime import datetime\n",
    "import re"
   ]
  },
  {
   "cell_type": "code",
   "execution_count": 16,
   "metadata": {
    "collapsed": false
   },
   "outputs": [],
   "source": [
    "tr = pd.read_csv('input/train.csv', low_memory=False)\n",
    "tr['Id'] = np.nan\n",
    "del tr['Customers']\n",
    "#tr[:5]"
   ]
  },
  {
   "cell_type": "code",
   "execution_count": 17,
   "metadata": {
    "collapsed": false
   },
   "outputs": [],
   "source": [
    "te = pd.read_csv('input/test.csv', low_memory=False)\n",
    "te['Sales'] = np.nan\n",
    "#te[:5]"
   ]
  },
  {
   "cell_type": "code",
   "execution_count": 18,
   "metadata": {
    "collapsed": false
   },
   "outputs": [],
   "source": [
    "s = pd.read_csv('input/store.csv')\n",
    "s.index = s.Store\n",
    "s.index.name = 'StoreId'\n",
    "#s[:5]"
   ]
  },
  {
   "cell_type": "code",
   "execution_count": 19,
   "metadata": {
    "collapsed": true
   },
   "outputs": [],
   "source": [
    "d = pd.concat([tr, te])"
   ]
  },
  {
   "cell_type": "code",
   "execution_count": 20,
   "metadata": {
    "collapsed": false
   },
   "outputs": [],
   "source": [
    "def parse_year(d):\n",
    "    return int(re.match(r'(\\d+)-(\\d+)-(\\d+)', d).groups()[0])\n",
    "def parse_month(d):\n",
    "    return int(re.match(r'(\\d+)-(\\d+)-(\\d+)', d).groups()[1])\n",
    "def parse_day(d):\n",
    "    return int(re.match(r'(\\d+)-(\\d+)-(\\d+)', d).groups()[2])\n",
    "d['DateYear'] = d.Date.apply(lambda d: parse_year(d))\n",
    "d['DateMonth'] = d.Date.apply(lambda d: parse_month(d))\n",
    "d['DateDay'] = d.Date.apply(lambda d: parse_day(d))\n",
    "#d[:5]"
   ]
  },
  {
   "cell_type": "code",
   "execution_count": 21,
   "metadata": {
    "collapsed": false
   },
   "outputs": [],
   "source": [
    "def agg_store(g):\n",
    "    ret = DataFrame({\n",
    "            'StoreSales_5': [g.Sales.quantile(0.05)],\n",
    "            'StoreSales_25': [g.Sales.quantile(0.25)],\n",
    "            'StoreSales_50': [g.Sales.quantile(0.50)],\n",
    "            'StoreSales_75': [g.Sales.quantile(0.75)],\n",
    "            'StoreSales_95': [g.Sales.quantile(0.95)]\n",
    "        })\n",
    "    return ret\n",
    "g = d.groupby(['Store'])\n",
    "g = g.apply(agg_store)\n",
    "g['Store'] = g.index.get_level_values(0)\n",
    "g.index = g.index.get_level_values(0)\n",
    "g.index.name = 'StoreId'\n",
    "t = pd.merge(s, g, how='left', on='Store')\n",
    "#t[:5]"
   ]
  },
  {
   "cell_type": "code",
   "execution_count": 22,
   "metadata": {
    "collapsed": false
   },
   "outputs": [
    {
     "data": {
      "text/html": [
       "<div>\n",
       "<table border=\"1\" class=\"dataframe\">\n",
       "  <thead>\n",
       "    <tr style=\"text-align: right;\">\n",
       "      <th></th>\n",
       "      <th>Date</th>\n",
       "      <th>DayOfWeek</th>\n",
       "      <th>Id</th>\n",
       "      <th>Open</th>\n",
       "      <th>Promo</th>\n",
       "      <th>Sales</th>\n",
       "      <th>SchoolHoliday</th>\n",
       "      <th>StateHoliday</th>\n",
       "      <th>Store</th>\n",
       "      <th>DateYear</th>\n",
       "      <th>DateMonth</th>\n",
       "      <th>DateDay</th>\n",
       "      <th>StoreDaySales_25</th>\n",
       "      <th>StoreDaySales_5</th>\n",
       "      <th>StoreDaySales_50</th>\n",
       "      <th>StoreDaySales_75</th>\n",
       "      <th>StoreDaySales_95</th>\n",
       "    </tr>\n",
       "  </thead>\n",
       "  <tbody>\n",
       "    <tr>\n",
       "      <th>0</th>\n",
       "      <td>2015-07-31</td>\n",
       "      <td>5</td>\n",
       "      <td>NaN</td>\n",
       "      <td>1</td>\n",
       "      <td>1</td>\n",
       "      <td>5263</td>\n",
       "      <td>1</td>\n",
       "      <td>0</td>\n",
       "      <td>1</td>\n",
       "      <td>2015</td>\n",
       "      <td>7</td>\n",
       "      <td>31</td>\n",
       "      <td>4001.5</td>\n",
       "      <td>3239.3</td>\n",
       "      <td>4609</td>\n",
       "      <td>5228.5</td>\n",
       "      <td>6140.5</td>\n",
       "    </tr>\n",
       "    <tr>\n",
       "      <th>1</th>\n",
       "      <td>2015-07-31</td>\n",
       "      <td>5</td>\n",
       "      <td>NaN</td>\n",
       "      <td>1</td>\n",
       "      <td>1</td>\n",
       "      <td>6064</td>\n",
       "      <td>1</td>\n",
       "      <td>0</td>\n",
       "      <td>2</td>\n",
       "      <td>2015</td>\n",
       "      <td>7</td>\n",
       "      <td>31</td>\n",
       "      <td>3954.5</td>\n",
       "      <td>3050.9</td>\n",
       "      <td>4608</td>\n",
       "      <td>4982.0</td>\n",
       "      <td>6003.9</td>\n",
       "    </tr>\n",
       "    <tr>\n",
       "      <th>2</th>\n",
       "      <td>2015-07-31</td>\n",
       "      <td>5</td>\n",
       "      <td>NaN</td>\n",
       "      <td>1</td>\n",
       "      <td>1</td>\n",
       "      <td>8314</td>\n",
       "      <td>1</td>\n",
       "      <td>0</td>\n",
       "      <td>3</td>\n",
       "      <td>2015</td>\n",
       "      <td>7</td>\n",
       "      <td>31</td>\n",
       "      <td>5892.0</td>\n",
       "      <td>3042.2</td>\n",
       "      <td>6933</td>\n",
       "      <td>8065.5</td>\n",
       "      <td>9624.1</td>\n",
       "    </tr>\n",
       "    <tr>\n",
       "      <th>3</th>\n",
       "      <td>2015-07-31</td>\n",
       "      <td>5</td>\n",
       "      <td>NaN</td>\n",
       "      <td>1</td>\n",
       "      <td>1</td>\n",
       "      <td>13995</td>\n",
       "      <td>1</td>\n",
       "      <td>0</td>\n",
       "      <td>4</td>\n",
       "      <td>2015</td>\n",
       "      <td>7</td>\n",
       "      <td>31</td>\n",
       "      <td>7970.5</td>\n",
       "      <td>6524.2</td>\n",
       "      <td>9299</td>\n",
       "      <td>10280.0</td>\n",
       "      <td>13089.5</td>\n",
       "    </tr>\n",
       "    <tr>\n",
       "      <th>4</th>\n",
       "      <td>2015-07-31</td>\n",
       "      <td>5</td>\n",
       "      <td>NaN</td>\n",
       "      <td>1</td>\n",
       "      <td>1</td>\n",
       "      <td>4822</td>\n",
       "      <td>1</td>\n",
       "      <td>0</td>\n",
       "      <td>5</td>\n",
       "      <td>2015</td>\n",
       "      <td>7</td>\n",
       "      <td>31</td>\n",
       "      <td>4178.5</td>\n",
       "      <td>2461.2</td>\n",
       "      <td>4764</td>\n",
       "      <td>5204.0</td>\n",
       "      <td>6262.5</td>\n",
       "    </tr>\n",
       "  </tbody>\n",
       "</table>\n",
       "</div>"
      ],
      "text/plain": [
       "         Date  DayOfWeek  Id  Open  Promo  Sales  SchoolHoliday StateHoliday  \\\n",
       "0  2015-07-31          5 NaN     1      1   5263              1            0   \n",
       "1  2015-07-31          5 NaN     1      1   6064              1            0   \n",
       "2  2015-07-31          5 NaN     1      1   8314              1            0   \n",
       "3  2015-07-31          5 NaN     1      1  13995              1            0   \n",
       "4  2015-07-31          5 NaN     1      1   4822              1            0   \n",
       "\n",
       "   Store  DateYear  DateMonth  DateDay  StoreDaySales_25  StoreDaySales_5  \\\n",
       "0      1      2015          7       31            4001.5           3239.3   \n",
       "1      2      2015          7       31            3954.5           3050.9   \n",
       "2      3      2015          7       31            5892.0           3042.2   \n",
       "3      4      2015          7       31            7970.5           6524.2   \n",
       "4      5      2015          7       31            4178.5           2461.2   \n",
       "\n",
       "   StoreDaySales_50  StoreDaySales_75  StoreDaySales_95  \n",
       "0              4609            5228.5            6140.5  \n",
       "1              4608            4982.0            6003.9  \n",
       "2              6933            8065.5            9624.1  \n",
       "3              9299           10280.0           13089.5  \n",
       "4              4764            5204.0            6262.5  "
      ]
     },
     "execution_count": 22,
     "metadata": {},
     "output_type": "execute_result"
    }
   ],
   "source": [
    "def agg_storeday(h):\n",
    "    ret = DataFrame({\n",
    "            'StoreDaySales_5': [h.Sales.quantile(0.05)],\n",
    "            'StoreDaySales_25': [h.Sales.quantile(0.25)],\n",
    "            'StoreDaySales_50': [h.Sales.quantile(0.50)],\n",
    "            'StoreDaySales_75': [h.Sales.quantile(0.75)],\n",
    "            'StoreDaySales_95': [h.Sales.quantile(0.95)]\n",
    "        })\n",
    "    return ret\n",
    "h = d.groupby(['Store', 'DayOfWeek'])\n",
    "h = h.apply(agg_storeday)\n",
    "h['Store'] = h.index.get_level_values(0)\n",
    "h['DayOfWeek'] = h.index.get_level_values(1)\n",
    "e = pd.merge(d, h, how='left', on=['Store', 'DayOfWeek'])\n",
    "e[:5]"
   ]
  },
  {
   "cell_type": "code",
   "execution_count": 23,
   "metadata": {
    "collapsed": false
   },
   "outputs": [],
   "source": [
    "f = pd.merge(e, t, how='left', on='Store')\n",
    "#f[:5].T"
   ]
  },
  {
   "cell_type": "code",
   "execution_count": 24,
   "metadata": {
    "collapsed": false
   },
   "outputs": [],
   "source": [
    "def month_in_interval(m, i):\n",
    "    if i is not None and i != nan and (type(i) == str and (m in i)):\n",
    "        return 1\n",
    "    return 0\n",
    "months = ['Jan', 'Feb', 'Mar', 'Apr', 'May', 'Jun', 'Jul', 'Aug', 'Sep', 'Oct', 'Nov', 'Dec']\n",
    "for m in months:\n",
    "    f['PromoInterval_' + m] = f.PromoInterval.apply(lambda i: month_in_interval(m, i))\n",
    "#f[:5].T"
   ]
  },
  {
   "cell_type": "code",
   "execution_count": 25,
   "metadata": {
    "collapsed": false
   },
   "outputs": [],
   "source": [
    "#f.info()"
   ]
  },
  {
   "cell_type": "code",
   "execution_count": 26,
   "metadata": {
    "collapsed": false
   },
   "outputs": [],
   "source": [
    "g = pd.get_dummies(f, columns=['DayOfWeek', 'StoreType', 'Assortment', 'StateHoliday'])\n",
    "#g.info()"
   ]
  },
  {
   "cell_type": "code",
   "execution_count": 27,
   "metadata": {
    "collapsed": false
   },
   "outputs": [],
   "source": [
    "del g['PromoInterval']"
   ]
  },
  {
   "cell_type": "code",
   "execution_count": 28,
   "metadata": {
    "collapsed": true
   },
   "outputs": [],
   "source": [
    "g.to_csv('tmp/engineered_features_2.csv')"
   ]
  }
 ],
 "metadata": {
  "kernelspec": {
   "display_name": "Python 2",
   "language": "python",
   "name": "python2"
  },
  "language_info": {
   "codemirror_mode": {
    "name": "ipython",
    "version": 2
   },
   "file_extension": ".py",
   "mimetype": "text/x-python",
   "name": "python",
   "nbconvert_exporter": "python",
   "pygments_lexer": "ipython2",
   "version": "2.7.10"
  }
 },
 "nbformat": 4,
 "nbformat_minor": 0
}
